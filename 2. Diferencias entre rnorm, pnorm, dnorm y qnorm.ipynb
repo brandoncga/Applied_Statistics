{
 "cells": [
  {
   "cell_type": "markdown",
   "metadata": {},
   "source": [
    "<b>dnorm</b> da como resultado el valor de la densidad de la probabilidad para una distribución normal a partir de x, μ y σ. "
   ]
  },
  {
   "cell_type": "code",
   "execution_count": 2,
   "metadata": {},
   "outputs": [
    {
     "data": {
      "text/html": [
       "5.18572940220076e-21"
      ],
      "text/latex": [
       "5.18572940220076e-21"
      ],
      "text/markdown": [
       "5.18572940220076e-21"
      ],
      "text/plain": [
       "[1] 5.185729e-21"
      ]
     },
     "metadata": {},
     "output_type": "display_data"
    }
   ],
   "source": [
    "dnorm(50,3,5)\n"
   ]
  },
  {
   "cell_type": "code",
   "execution_count": 17,
   "metadata": {},
   "outputs": [
    {
     "data": {
      "image/png": "[encoded data removed]",
      "text/plain": [
       "Plot with title \"Función de Densidad\""
      ]
     },
     "metadata": {},
     "output_type": "display_data"
    }
   ],
   "source": [
    "x<-seq(-3,3,length=50)\n",
    "y<-1/sqrt(2*pi)*exp(-x^2/2)\n",
    "plot(x,y,type=\"l\", lwd=3, col=\"blue\", main=\"Función de Densidad\")"
   ]
  },
  {
   "cell_type": "markdown",
   "metadata": {},
   "source": [
    "<b>pnorm</b> calcula la probabilidad acumulada, siendo esta el área bajo la curva"
   ]
  },
  {
   "cell_type": "code",
   "execution_count": 18,
   "metadata": {},
   "outputs": [
    {
     "data": {
      "text/html": [
       "1"
      ],
      "text/latex": [
       "1"
      ],
      "text/markdown": [
       "1"
      ],
      "text/plain": [
       "[1] 1"
      ]
     },
     "metadata": {},
     "output_type": "display_data"
    }
   ],
   "source": [
    "pnorm(2,1,0)"
   ]
  },
  {
   "cell_type": "code",
   "execution_count": 15,
   "metadata": {},
   "outputs": [
    {
     "data": {
      "image/png": "[encoded data removed]",
      "text/plain": [
       "Plot with title \"Plot de Densidad\""
      ]
     },
     "metadata": {},
     "output_type": "display_data"
    }
   ],
   "source": [
    "x<-seq(-5,5,0.1)\n",
    "hist <- dnorm(x, mean=0, sd=1) \n",
    "plot(x, hist, type=\"l\", xlab=\"Desviación estándar\", ylab=\"Densidad\",main=\"Plot de Densidad\", lty = 1, lwd = 3, yaxs=\"i\") # yaxs=\"i\" localiza en el eje el límite del dato\n",
    "polygon(c(x[x <= 2.0], 2), c(dnorm(x[x <= 2]), 0), col=\"lightblue\")\n",
    "text(0, .1,\"0.977\")"
   ]
  },
  {
   "cell_type": "markdown",
   "metadata": {},
   "source": [
    "<b>qnorm</b> determina el cuantil de una probabilidad dada. El dato representa los valores menores asociados al percentil 97 de la distribución, con una media de cero y desviación estándar de uno."
   ]
  },
  {
   "cell_type": "code",
   "execution_count": 25,
   "metadata": {},
   "outputs": [
    {
     "data": {
      "text/html": [
       "1.99539331016782"
      ],
      "text/latex": [
       "1.99539331016782"
      ],
      "text/markdown": [
       "1.99539331016782"
      ],
      "text/plain": [
       "[1] 1.995393"
      ]
     },
     "metadata": {},
     "output_type": "display_data"
    }
   ],
   "source": [
    "qnorm(.977,0,1) \n"
   ]
  },
  {
   "cell_type": "markdown",
   "metadata": {},
   "source": [
    "<b>rnorm</b> genera números aleatorios con distribución normal. \n"
   ]
  },
  {
   "cell_type": "code",
   "execution_count": 28,
   "metadata": {},
   "outputs": [
    {
     "data": {
      "text/html": [
       "<ol class=list-inline>\n",
       "\t<li>-0.560475646552213</li>\n",
       "\t<li>-0.23017748948328</li>\n",
       "\t<li>1.55870831414912</li>\n",
       "\t<li>0.070508391424576</li>\n",
       "\t<li>0.129287735160946</li>\n",
       "\t<li>1.71506498688328</li>\n",
       "\t<li>0.460916205989202</li>\n",
       "\t<li>-1.26506123460653</li>\n",
       "\t<li>-0.686852851893526</li>\n",
       "\t<li>-0.445661970099958</li>\n",
       "\t<li>1.22408179743946</li>\n",
       "\t<li>0.359813827057364</li>\n",
       "\t<li>0.400771450594052</li>\n",
       "\t<li>0.11068271594512</li>\n",
       "\t<li>-0.555841134754075</li>\n",
       "\t<li>1.78691313680308</li>\n",
       "\t<li>0.497850478229239</li>\n",
       "\t<li>-1.96661715662964</li>\n",
       "\t<li>0.701355901563686</li>\n",
       "\t<li>-0.472791407727934</li>\n",
       "\t<li>-1.06782370598685</li>\n",
       "\t<li>-0.217974914658295</li>\n",
       "\t<li>-1.02600444830724</li>\n",
       "\t<li>-0.72889122929114</li>\n",
       "\t<li>-0.625039267849257</li>\n",
       "\t<li>-1.68669331074241</li>\n",
       "\t<li>0.837787044494525</li>\n",
       "\t<li>0.153373117836515</li>\n",
       "\t<li>-1.13813693701195</li>\n",
       "\t<li>1.25381492106993</li>\n",
       "</ol>\n"
      ],
      "text/latex": [
       "\\begin{enumerate*}\n",
       "\\item -0.560475646552213\n",
       "\\item -0.23017748948328\n",
       "\\item 1.55870831414912\n",
       "\\item 0.070508391424576\n",
       "\\item 0.129287735160946\n",
       "\\item 1.71506498688328\n",
       "\\item 0.460916205989202\n",
       "\\item -1.26506123460653\n",
       "\\item -0.686852851893526\n",
       "\\item -0.445661970099958\n",
       "\\item 1.22408179743946\n",
       "\\item 0.359813827057364\n",
       "\\item 0.400771450594052\n",
       "\\item 0.11068271594512\n",
       "\\item -0.555841134754075\n",
       "\\item 1.78691313680308\n",
       "\\item 0.497850478229239\n",
       "\\item -1.96661715662964\n",
       "\\item 0.701355901563686\n",
       "\\item -0.472791407727934\n",
       "\\item -1.06782370598685\n",
       "\\item -0.217974914658295\n",
       "\\item -1.02600444830724\n",
       "\\item -0.72889122929114\n",
       "\\item -0.625039267849257\n",
       "\\item -1.68669331074241\n",
       "\\item 0.837787044494525\n",
       "\\item 0.153373117836515\n",
       "\\item -1.13813693701195\n",
       "\\item 1.25381492106993\n",
       "\\end{enumerate*}\n"
      ],
      "text/markdown": [
       "1. -0.560475646552213\n",
       "2. -0.23017748948328\n",
       "3. 1.55870831414912\n",
       "4. 0.070508391424576\n",
       "5. 0.129287735160946\n",
       "6. 1.71506498688328\n",
       "7. 0.460916205989202\n",
       "8. -1.26506123460653\n",
       "9. -0.686852851893526\n",
       "10. -0.445661970099958\n",
       "11. 1.22408179743946\n",
       "12. 0.359813827057364\n",
       "13. 0.400771450594052\n",
       "14. 0.11068271594512\n",
       "15. -0.555841134754075\n",
       "16. 1.78691313680308\n",
       "17. 0.497850478229239\n",
       "18. -1.96661715662964\n",
       "19. 0.701355901563686\n",
       "20. -0.472791407727934\n",
       "21. -1.06782370598685\n",
       "22. -0.217974914658295\n",
       "23. -1.02600444830724\n",
       "24. -0.72889122929114\n",
       "25. -0.625039267849257\n",
       "26. -1.68669331074241\n",
       "27. 0.837787044494525\n",
       "28. 0.153373117836515\n",
       "29. -1.13813693701195\n",
       "30. 1.25381492106993\n",
       "\n",
       "\n"
      ],
      "text/plain": [
       " [1] -0.56047565 -0.23017749  1.55870831  0.07050839  0.12928774  1.71506499\n",
       " [7]  0.46091621 -1.26506123 -0.68685285 -0.44566197  1.22408180  0.35981383\n",
       "[13]  0.40077145  0.11068272 -0.55584113  1.78691314  0.49785048 -1.96661716\n",
       "[19]  0.70135590 -0.47279141 -1.06782371 -0.21797491 -1.02600445 -0.72889123\n",
       "[25] -0.62503927 -1.68669331  0.83778704  0.15337312 -1.13813694  1.25381492"
      ]
     },
     "metadata": {},
     "output_type": "display_data"
    }
   ],
   "source": [
    "set.seed(123)\n",
    "rnorm(30,0,1)"
   ]
  },
  {
   "cell_type": "code",
   "execution_count": null,
   "metadata": {},
   "outputs": [],
   "source": []
  }
 ],
 "metadata": {
  "kernelspec": {
   "display_name": "R",
   "language": "R",
   "name": "ir"
  },
  "language_info": {
   "codemirror_mode": "r",
   "file_extension": ".r",
   "mimetype": "text/x-r-source",
   "name": "R",
   "pygments_lexer": "r",
   "version": "3.6.1"
  }
 },
 "nbformat": 4,
 "nbformat_minor": 2
}
