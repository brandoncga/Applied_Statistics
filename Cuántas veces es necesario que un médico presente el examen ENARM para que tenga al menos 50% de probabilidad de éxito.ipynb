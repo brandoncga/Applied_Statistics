{
 "cells": [
  {
   "cell_type": "markdown",
   "metadata": {},
   "source": [
    "# Cuántas veces es necesario que un médico presente el examen ENARM para que tenga al menos 50% de probabilidad de éxito"
   ]
  },
  {
   "cell_type": "code",
   "execution_count": 1,
   "metadata": {},
   "outputs": [],
   "source": [
    "dataset <- read.csv(\"enarm.csv\")"
   ]
  },
  {
   "cell_type": "code",
   "execution_count": 2,
   "metadata": {},
   "outputs": [
    {
     "data": {
      "text/html": [
       "<table>\n",
       "<thead><tr><th scope=col>ï..ENTIDAD.FEDERATIVA</th><th scope=col>FACULTAD.O.ESCUELA.DE.MEDICINA</th><th scope=col>SUSTENTANTES</th><th scope=col>SELECCIONADOS</th><th scope=col>PROMEDIO.GENERAL</th><th scope=col>AGNO</th></tr></thead>\n",
       "<tbody>\n",
       "\t<tr><td>AGUASCALIENTES                                 </td><td>UNIV. AUT. DE AGUASCALIENTES                   </td><td>239                                            </td><td>84                                             </td><td>67.52                                          </td><td>2017                                           </td></tr>\n",
       "\t<tr><td>AGUASCALIENTES                                 </td><td>UNIV. CUAUHTEMOC - PLANTEL AGUASCALIENTES      </td><td> 72                                            </td><td> 9                                             </td><td>63.81                                          </td><td>2017                                           </td></tr>\n",
       "\t<tr><td>BAJA CALIFORNIA                                </td><td>CENTRO EST. UNIV. XOCHICALCO, U. ENSENADA      </td><td>247                                            </td><td>48                                             </td><td>61.16                                          </td><td>2017                                           </td></tr>\n",
       "\t<tr><td>BAJA CALIFORNIA                                </td><td>CENTRO EST. UNIV. XOCHICALCO, U. TIJUANA       </td><td>152                                            </td><td>30                                             </td><td>62.48                                          </td><td>2017                                           </td></tr>\n",
       "\t<tr><td>BAJA CALIFORNIA                                </td><td>UNIV. AUT. DE B.C. - CAMPUS VALLE DE LAS PALMAS</td><td>135                                            </td><td>16                                             </td><td>62.70                                          </td><td>2017                                           </td></tr>\n",
       "\t<tr><td>BAJA CALIFORNIA                                </td><td>UNIV. AUT. DE B.C., U. ENSENADA                </td><td>188                                            </td><td>55                                             </td><td>64.88                                          </td><td>2017                                           </td></tr>\n",
       "</tbody>\n",
       "</table>\n"
      ],
      "text/latex": [
       "\\begin{tabular}{r|llllll}\n",
       " ï..ENTIDAD.FEDERATIVA & FACULTAD.O.ESCUELA.DE.MEDICINA & SUSTENTANTES & SELECCIONADOS & PROMEDIO.GENERAL & AGNO\\\\\n",
       "\\hline\n",
       "\t AGUASCALIENTES                                  & UNIV. AUT. DE AGUASCALIENTES                    & 239                                             & 84                                              & 67.52                                           & 2017                                           \\\\\n",
       "\t AGUASCALIENTES                                  & UNIV. CUAUHTEMOC - PLANTEL AGUASCALIENTES       &  72                                             &  9                                              & 63.81                                           & 2017                                           \\\\\n",
       "\t BAJA CALIFORNIA                                 & CENTRO EST. UNIV. XOCHICALCO, U. ENSENADA       & 247                                             & 48                                              & 61.16                                           & 2017                                           \\\\\n",
       "\t BAJA CALIFORNIA                                 & CENTRO EST. UNIV. XOCHICALCO, U. TIJUANA        & 152                                             & 30                                              & 62.48                                           & 2017                                           \\\\\n",
       "\t BAJA CALIFORNIA                                 & UNIV. AUT. DE B.C. - CAMPUS VALLE DE LAS PALMAS & 135                                             & 16                                              & 62.70                                           & 2017                                           \\\\\n",
       "\t BAJA CALIFORNIA                                 & UNIV. AUT. DE B.C., U. ENSENADA                 & 188                                             & 55                                              & 64.88                                           & 2017                                           \\\\\n",
       "\\end{tabular}\n"
      ],
      "text/markdown": [
       "\n",
       "| ï..ENTIDAD.FEDERATIVA | FACULTAD.O.ESCUELA.DE.MEDICINA | SUSTENTANTES | SELECCIONADOS | PROMEDIO.GENERAL | AGNO |\n",
       "|---|---|---|---|---|---|\n",
       "| AGUASCALIENTES                                  | UNIV. AUT. DE AGUASCALIENTES                    | 239                                             | 84                                              | 67.52                                           | 2017                                            |\n",
       "| AGUASCALIENTES                                  | UNIV. CUAUHTEMOC - PLANTEL AGUASCALIENTES       |  72                                             |  9                                              | 63.81                                           | 2017                                            |\n",
       "| BAJA CALIFORNIA                                 | CENTRO EST. UNIV. XOCHICALCO, U. ENSENADA       | 247                                             | 48                                              | 61.16                                           | 2017                                            |\n",
       "| BAJA CALIFORNIA                                 | CENTRO EST. UNIV. XOCHICALCO, U. TIJUANA        | 152                                             | 30                                              | 62.48                                           | 2017                                            |\n",
       "| BAJA CALIFORNIA                                 | UNIV. AUT. DE B.C. - CAMPUS VALLE DE LAS PALMAS | 135                                             | 16                                              | 62.70                                           | 2017                                            |\n",
       "| BAJA CALIFORNIA                                 | UNIV. AUT. DE B.C., U. ENSENADA                 | 188                                             | 55                                              | 64.88                                           | 2017                                            |\n",
       "\n"
      ],
      "text/plain": [
       "  ï..ENTIDAD.FEDERATIVA FACULTAD.O.ESCUELA.DE.MEDICINA                 \n",
       "1 AGUASCALIENTES        UNIV. AUT. DE AGUASCALIENTES                   \n",
       "2 AGUASCALIENTES        UNIV. CUAUHTEMOC - PLANTEL AGUASCALIENTES      \n",
       "3 BAJA CALIFORNIA       CENTRO EST. UNIV. XOCHICALCO, U. ENSENADA      \n",
       "4 BAJA CALIFORNIA       CENTRO EST. UNIV. XOCHICALCO, U. TIJUANA       \n",
       "5 BAJA CALIFORNIA       UNIV. AUT. DE B.C. - CAMPUS VALLE DE LAS PALMAS\n",
       "6 BAJA CALIFORNIA       UNIV. AUT. DE B.C., U. ENSENADA                \n",
       "  SUSTENTANTES SELECCIONADOS PROMEDIO.GENERAL AGNO\n",
       "1 239          84            67.52            2017\n",
       "2  72           9            63.81            2017\n",
       "3 247          48            61.16            2017\n",
       "4 152          30            62.48            2017\n",
       "5 135          16            62.70            2017\n",
       "6 188          55            64.88            2017"
      ]
     },
     "metadata": {},
     "output_type": "display_data"
    }
   ],
   "source": [
    "head(dataset)"
   ]
  },
  {
   "cell_type": "markdown",
   "metadata": {},
   "source": [
    "Calculando la eficiencia"
   ]
  },
  {
   "cell_type": "code",
   "execution_count": 18,
   "metadata": {},
   "outputs": [],
   "source": [
    "efi <- dataset$SELECCIONADOS/dataset$SUSTENTANTES"
   ]
  },
  {
   "cell_type": "code",
   "execution_count": 29,
   "metadata": {},
   "outputs": [],
   "source": [
    "Pdeaprobar <- median(efi,na.rm=T)"
   ]
  },
  {
   "cell_type": "code",
   "execution_count": 25,
   "metadata": {
    "scrolled": true
   },
   "outputs": [
    {
     "data": {
      "text/plain": [
       "   Min. 1st Qu.  Median    Mean 3rd Qu.    Max.    NA's \n",
       " 0.0000  0.1429  0.2156  0.2426  0.3075  1.0000      11 "
      ]
     },
     "metadata": {},
     "output_type": "display_data"
    }
   ],
   "source": [
    "summary(efi)"
   ]
  },
  {
   "cell_type": "code",
   "execution_count": 32,
   "metadata": {},
   "outputs": [
    {
     "data": {
      "text/html": [
       "0.784436493738819"
      ],
      "text/latex": [
       "0.784436493738819"
      ],
      "text/markdown": [
       "0.784436493738819"
      ],
      "text/plain": [
       "[1] 0.7844365"
      ]
     },
     "metadata": {},
     "output_type": "display_data"
    }
   ],
   "source": [
    "Intentouno <- 1-Pdeaprobar\n",
    "Intentouno"
   ]
  },
  {
   "cell_type": "code",
   "execution_count": 38,
   "metadata": {},
   "outputs": [
    {
     "data": {
      "text/html": [
       "0.615340612709253"
      ],
      "text/latex": [
       "0.615340612709253"
      ],
      "text/markdown": [
       "0.615340612709253"
      ],
      "text/plain": [
       "[1] 0.6153406"
      ]
     },
     "metadata": {},
     "output_type": "display_data"
    }
   ],
   "source": [
    "Intentodos <- Intentouno*(Intentouno)\n",
    "Intentodos"
   ]
  },
  {
   "cell_type": "code",
   "execution_count": 39,
   "metadata": {},
   "outputs": [
    {
     "data": {
      "text/html": [
       "0.482695632688743"
      ],
      "text/latex": [
       "0.482695632688743"
      ],
      "text/markdown": [
       "0.482695632688743"
      ],
      "text/plain": [
       "[1] 0.4826956"
      ]
     },
     "metadata": {},
     "output_type": "display_data"
    }
   ],
   "source": [
    "Intentotres <- Intentodos*(Intentouno)\n",
    "Intentotres"
   ]
  },
  {
   "cell_type": "code",
   "execution_count": 40,
   "metadata": {},
   "outputs": [
    {
     "data": {
      "text/html": [
       "0.517304367311257"
      ],
      "text/latex": [
       "0.517304367311257"
      ],
      "text/markdown": [
       "0.517304367311257"
      ],
      "text/plain": [
       "[1] 0.5173044"
      ]
     },
     "metadata": {},
     "output_type": "display_data"
    }
   ],
   "source": [
    "1-Intentotres"
   ]
  },
  {
   "cell_type": "markdown",
   "metadata": {},
   "source": [
    "La probabilidad en el intento 3 de aprobrar es mayor a .5, es decir, .517304"
   ]
  },
  {
   "cell_type": "code",
   "execution_count": null,
   "metadata": {},
   "outputs": [],
   "source": []
  }
 ],
 "metadata": {
  "kernelspec": {
   "display_name": "R",
   "language": "R",
   "name": "ir"
  },
  "language_info": {
   "codemirror_mode": "r",
   "file_extension": ".r",
   "mimetype": "text/x-r-source",
   "name": "R",
   "pygments_lexer": "r",
   "version": "3.6.1"
  }
 },
 "nbformat": 4,
 "nbformat_minor": 2
}
