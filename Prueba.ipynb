{
 "cells": [
  {
   "cell_type": "code",
   "execution_count": 1,
   "metadata": {},
   "outputs": [],
   "source": [
    "Aleatorios <- runif (n = 30,min = 100,max =500)"
   ]
  },
  {
   "cell_type": "code",
   "execution_count": 2,
   "metadata": {},
   "outputs": [
    {
     "data": {
      "text/html": [
       "<ol class=list-inline>\n",
       "\t<li>457.172060664743</li>\n",
       "\t<li>474.957375694066</li>\n",
       "\t<li>238.550983462483</li>\n",
       "\t<li>345.670022070408</li>\n",
       "\t<li>495.428126025945</li>\n",
       "\t<li>210.135061945766</li>\n",
       "</ol>\n"
      ],
      "text/latex": [
       "\\begin{enumerate*}\n",
       "\\item 457.172060664743\n",
       "\\item 474.957375694066\n",
       "\\item 238.550983462483\n",
       "\\item 345.670022070408\n",
       "\\item 495.428126025945\n",
       "\\item 210.135061945766\n",
       "\\end{enumerate*}\n"
      ],
      "text/markdown": [
       "1. 457.172060664743\n",
       "2. 474.957375694066\n",
       "3. 238.550983462483\n",
       "4. 345.670022070408\n",
       "5. 495.428126025945\n",
       "6. 210.135061945766\n",
       "\n",
       "\n"
      ],
      "text/plain": [
       "[1] 457.1721 474.9574 238.5510 345.6700 495.4281 210.1351"
      ]
     },
     "metadata": {},
     "output_type": "display_data"
    }
   ],
   "source": [
    "head (Aleatorios)"
   ]
  },
  {
   "cell_type": "code",
   "execution_count": 3,
   "metadata": {},
   "outputs": [
    {
     "data": {
      "text/plain": [
       "   Min. 1st Qu.  Median    Mean 3rd Qu.    Max. \n",
       "  136.6   210.2   337.1   321.7   430.9   495.4 "
      ]
     },
     "metadata": {},
     "output_type": "display_data"
    }
   ],
   "source": [
    "summary (Aleatorios)"
   ]
  },
  {
   "cell_type": "code",
   "execution_count": 4,
   "metadata": {},
   "outputs": [
    {
     "ename": "ERROR",
     "evalue": "Error in parse(text = x, srcfile = src): <text>:1:69: unexpected string constant\n1: hist(Aleatorios,main=\"Distribución uniforme\", col=\"darkblue\",border \"white\"\n                                                                        ^\n",
     "output_type": "error",
     "traceback": [
      "Error in parse(text = x, srcfile = src): <text>:1:69: unexpected string constant\n1: hist(Aleatorios,main=\"Distribución uniforme\", col=\"darkblue\",border \"white\"\n                                                                        ^\nTraceback:\n"
     ]
    }
   ],
   "source": [
    "hist(Aleatorios,main=\"Distribución uniforme\", col=\"darkblue\",border \"white\")"
   ]
  },
  {
   "cell_type": "code",
   "execution_count": null,
   "metadata": {},
   "outputs": [],
   "source": []
  }
 ],
 "metadata": {
  "kernelspec": {
   "display_name": "R",
   "language": "R",
   "name": "ir"
  },
  "language_info": {
   "codemirror_mode": "r",
   "file_extension": ".r",
   "mimetype": "text/x-r-source",
   "name": "R",
   "pygments_lexer": "r",
   "version": "3.6.1"
  }
 },
 "nbformat": 4,
 "nbformat_minor": 2
}
